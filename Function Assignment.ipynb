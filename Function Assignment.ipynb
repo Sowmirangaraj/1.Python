{
 "cells": [
  {
   "cell_type": "code",
   "execution_count": 1,
   "id": "86a74c44-7be7-4aad-b270-a972e94e31c4",
   "metadata": {},
   "outputs": [
    {
     "name": "stdout",
     "output_type": "stream",
     "text": [
      "Sub-fields in AI are:\n",
      "Machine Learning\n",
      "Neural Networks\n",
      "Vision\n",
      "Robotics\n",
      "Speech processing\n",
      "Natural Language Processing\n"
     ]
    }
   ],
   "source": [
    "fields=['Machine Learning','Neural Networks','Vision','Robotics','Speech processing','Natural Language Processing']\n",
    "print(\"Sub-fields in AI are:\")\n",
    "def Subfields():\n",
    "        for field in fields:\n",
    "            print(field)\n",
    "AI=Subfields()\n"
   ]
  },
  {
   "cell_type": "code",
   "execution_count": 2,
   "id": "bba8afb1-82f7-46ae-ad39-26bc57390034",
   "metadata": {},
   "outputs": [
    {
     "name": "stdin",
     "output_type": "stream",
     "text": [
      "Enter a Number: 52452\n"
     ]
    },
    {
     "name": "stdout",
     "output_type": "stream",
     "text": [
      "52452 is Even number\n"
     ]
    }
   ],
   "source": [
    "def OddEven():\n",
    "    num=int(input(\"Enter a Number:\"))\n",
    "    if((num%2)==0):\n",
    "        message=\"Even Number\"\n",
    "    else:\n",
    "        message=\"Odd Number\"\n",
    "    return message\n",
    "message=OddEven()\n",
    "if(message==\"Even Number\"):\n",
    "    print(\"52452 is Even number\")\n",
    "else:\n",
    "   print(\"52452 is Odd number\") "
   ]
  },
  {
   "cell_type": "code",
   "execution_count": 3,
   "id": "de37cc6c-0094-4b70-bcc0-cec9717abf7f",
   "metadata": {},
   "outputs": [
    {
     "name": "stdin",
     "output_type": "stream",
     "text": [
      "Your Gender: Male\n",
      "Your Age: 20\n"
     ]
    },
    {
     "name": "stdout",
     "output_type": "stream",
     "text": [
      "NOT ELIGIBLE\n"
     ]
    }
   ],
   "source": [
    "def Elegible():\n",
    "    gender=input(\"Your Gender:\")\n",
    "    if(gender==\"Male\"):\n",
    "        age=int(input(\"Your Age:\"))\n",
    "        if(age>21):\n",
    "            print(\"ELIGIBLE\")\n",
    "            message=\"ELIGIBLE\"\n",
    "        else:\n",
    "            print(\"NOT ELIGIBLE\")\n",
    "            message=\"NOT ELIGIBLE\"\n",
    "    else:\n",
    "        age=int(input(\"Your Age:\"))\n",
    "        if(age>18):\n",
    "            print(\"ELIGIBLE\")\n",
    "            message=\"ELIGIBLE\"\n",
    "        else:\n",
    "            print(\"NOT ELIGIBLE\") \n",
    "            message=\"NOT ELIGIBLE\"\n",
    "    return message\n",
    "elegibility=Elegible()\n"
   ]
  },
  {
   "cell_type": "code",
   "execution_count": 4,
   "id": "3917b6f7-dc9a-4f85-bc1e-0a5c4f430e6f",
   "metadata": {},
   "outputs": [
    {
     "name": "stdin",
     "output_type": "stream",
     "text": [
      "Subject1: 98\n",
      "Subject2: 87\n",
      "Subject3: 95\n",
      "Subject4: 95\n",
      "Subject5: 93\n"
     ]
    },
    {
     "name": "stdout",
     "output_type": "stream",
     "text": [
      "Total: 468.0\n",
      "Percentage: 93.6\n"
     ]
    }
   ],
   "source": [
    "def percentage():\n",
    "    sub1=float(input(\"Subject1:\"))\n",
    "    sub2=float(input(\"Subject2:\"))\n",
    "    sub3=float(input(\"Subject3:\"))\n",
    "    sub4=float(input(\"Subject4:\"))\n",
    "    sub5=float(input(\"Subject5:\"))\n",
    "    total=sub1+sub2+sub3+sub4+sub5\n",
    "    percentage=total/5\n",
    "    total=print(\"Total:\",total)\n",
    "    result=print(\"Percentage:\",percentage)\n",
    "percentage=percentage()"
   ]
  },
  {
   "cell_type": "code",
   "execution_count": 5,
   "id": "fc69d562-f0f4-4666-b17b-22ae8ca66b1f",
   "metadata": {},
   "outputs": [
    {
     "name": "stdin",
     "output_type": "stream",
     "text": [
      "Height: 32\n",
      "Breadth: 34\n"
     ]
    },
    {
     "name": "stdout",
     "output_type": "stream",
     "text": [
      "Area formula=(Height*Breadth)/2\n",
      "Area of Triangle: 544.0\n"
     ]
    },
    {
     "name": "stdin",
     "output_type": "stream",
     "text": [
      "Height1: 2\n",
      "Height2: 4\n",
      "Breadth: 4\n"
     ]
    },
    {
     "name": "stdout",
     "output_type": "stream",
     "text": [
      "Perimeter formla=Height1+Height2+Breadth\n",
      "Perimeter of Triangle: 10\n"
     ]
    }
   ],
   "source": [
    "def triangle():\n",
    "    height=int(input(\"Height:\"))\n",
    "    breadth=int(input(\"Breadth:\"))\n",
    "    area=(height*breadth)/2\n",
    "    print(\"Area formula=(Height*Breadth)/2\")\n",
    "    print(\"Area of Triangle:\",area)\n",
    "    height1=int(input(\"Height1:\"))\n",
    "    height2=int(input(\"Height2:\"))\n",
    "    breadth=int(input(\"Breadth:\"))\n",
    "    perimeter=height1+height2+breadth  \n",
    "    print(\"Perimeter formla=Height1+Height2+Breadth\")\n",
    "    print(\"Perimeter of Triangle:\",perimeter) \n",
    "area=triangle()"
   ]
  },
  {
   "cell_type": "code",
   "execution_count": null,
   "id": "1bd2c3d1-c3c7-454c-bb81-fc68747b10cc",
   "metadata": {},
   "outputs": [],
   "source": []
  }
 ],
 "metadata": {
  "kernelspec": {
   "display_name": "Python 3 (ipykernel)",
   "language": "python",
   "name": "python3"
  },
  "language_info": {
   "codemirror_mode": {
    "name": "ipython",
    "version": 3
   },
   "file_extension": ".py",
   "mimetype": "text/x-python",
   "name": "python",
   "nbconvert_exporter": "python",
   "pygments_lexer": "ipython3",
   "version": "3.12.7"
  }
 },
 "nbformat": 4,
 "nbformat_minor": 5
}
