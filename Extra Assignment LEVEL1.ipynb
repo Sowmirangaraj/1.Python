{
 "cells": [
  {
   "cell_type": "code",
   "execution_count": 1,
   "id": "2ec7d70e-cbc8-4ee8-9a21-7833c9355f8c",
   "metadata": {},
   "outputs": [
    {
     "name": "stdout",
     "output_type": "stream",
     "text": [
      "HOPE AI\n"
     ]
    }
   ],
   "source": [
    "print(\"HOPE AI\")"
   ]
  },
  {
   "cell_type": "code",
   "execution_count": 2,
   "id": "eb07f287-2232-44f2-adde-8a6062cf7605",
   "metadata": {},
   "outputs": [
    {
     "name": "stdin",
     "output_type": "stream",
     "text": [
      "Enter the instute name? : HOPE AI\n"
     ]
    }
   ],
   "source": [
    "instute_name=input(\"Enter the instute name? :\")"
   ]
  },
  {
   "cell_type": "code",
   "execution_count": 3,
   "id": "e57d5ec6-f6e6-4c7c-a61b-62c786103092",
   "metadata": {},
   "outputs": [
    {
     "name": "stdin",
     "output_type": "stream",
     "text": [
      "Enter your name: Raj\n",
      "Enter your age:: 15\n",
      "Enter your school name: Guru School\n",
      "Enter your degree: B.E CSE\n"
     ]
    }
   ],
   "source": [
    "name=input(\"Enter your name:\")\n",
    "age=input(\"Enter your age::\")\n",
    "school_name=input(\"Enter your school name:\")\n",
    "degree=input(\"Enter your degree:\")"
   ]
  },
  {
   "cell_type": "code",
   "execution_count": 4,
   "id": "9ec6b3d5-2e00-40a9-a796-a613ffbc723e",
   "metadata": {},
   "outputs": [
    {
     "name": "stdout",
     "output_type": "stream",
     "text": [
      "a= 43\n",
      "b= 34\n",
      "add= 77\n"
     ]
    }
   ],
   "source": [
    "num1=43\n",
    "print(\"a=\",num1)\n",
    "num2=34\n",
    "print(\"b=\",num2)\n",
    "add=num1+num2\n",
    "print(\"add=\",add)"
   ]
  },
  {
   "cell_type": "code",
   "execution_count": 5,
   "id": "c05a8af5-654f-4ca2-af3f-61a9df8efa2a",
   "metadata": {},
   "outputs": [
    {
     "name": "stdout",
     "output_type": "stream",
     "text": [
      "a= 43\n",
      "b= 34\n",
      "Sub= 9\n"
     ]
    }
   ],
   "source": [
    "print(\"a=\",num1)\n",
    "print(\"b=\",num2)\n",
    "sub=num1-num2\n",
    "print(\"Sub=\",sub)"
   ]
  },
  {
   "cell_type": "code",
   "execution_count": 6,
   "id": "42cd60ab-26d5-4b3a-a80f-07aa1fd353af",
   "metadata": {},
   "outputs": [
    {
     "name": "stdout",
     "output_type": "stream",
     "text": [
      "a= 63\n",
      "b= 97\n",
      "Mul= 6111\n"
     ]
    }
   ],
   "source": [
    "NUMBER1=63\n",
    "NUMBER2=97\n",
    "print(\"a=\",NUMBER1)\n",
    "print(\"b=\",NUMBER2)\n",
    "Mul=NUMBER1*NUMBER2\n",
    "print(\"Mul=\",Mul)"
   ]
  },
  {
   "cell_type": "code",
   "execution_count": 7,
   "id": "4d3e00ef-cf08-4d96-9644-22371a42f7e3",
   "metadata": {},
   "outputs": [
    {
     "name": "stdin",
     "output_type": "stream",
     "text": [
      "a= 76\n",
      "b= 31\n"
     ]
    },
    {
     "name": "stdout",
     "output_type": "stream",
     "text": [
      "float div: 2.4516129032258065\n"
     ]
    }
   ],
   "source": [
    "integer1=int(input(\"a=\"))\n",
    "integer2=int(input(\"b=\"))\n",
    "float_div=integer1/integer2\n",
    "print(\"float div:\",float_div)"
   ]
  },
  {
   "cell_type": "code",
   "execution_count": 8,
   "id": "06ef9466-e67a-41e0-a55a-538d9eb248d1",
   "metadata": {},
   "outputs": [
    {
     "name": "stdout",
     "output_type": "stream",
     "text": [
      "a= 76\n",
      "b= 31\n",
      "Floor Div: 2\n"
     ]
    }
   ],
   "source": [
    "floor_div=integer1//integer2\n",
    "print(\"a=\",integer1)\n",
    "print(\"b=\",integer2)\n",
    "print(\"Floor Div:\",floor_div)"
   ]
  },
  {
   "cell_type": "code",
   "execution_count": 9,
   "id": "f8f4de0d-a19f-4a4c-9c32-efd887d307f7",
   "metadata": {},
   "outputs": [
    {
     "name": "stdout",
     "output_type": "stream",
     "text": [
      "a: 76\n",
      "b: 31\n",
      "Modulo: 14\n"
     ]
    }
   ],
   "source": [
    "Modulo=integer1%integer2\n",
    "print(\"a:\",integer1)\n",
    "print(\"b:\",integer2)\n",
    "print(\"Modulo:\",Modulo)"
   ]
  },
  {
   "cell_type": "code",
   "execution_count": 10,
   "id": "008469e3-94b4-4095-9401-227cffb46edb",
   "metadata": {},
   "outputs": [
    {
     "name": "stdin",
     "output_type": "stream",
     "text": [
      "a: 4\n",
      "b: 4\n"
     ]
    },
    {
     "name": "stdout",
     "output_type": "stream",
     "text": [
      "Power: 256\n"
     ]
    }
   ],
   "source": [
    "NUM1=int(input(\"a:\"))\n",
    "NUM2=int(input(\"b:\"))\n",
    "Power=NUM1**NUM2\n",
    "print(\"Power:\",Power)"
   ]
  },
  {
   "cell_type": "code",
   "execution_count": null,
   "id": "7cc4a09a-48f4-4e0c-9e88-962780a21d86",
   "metadata": {},
   "outputs": [],
   "source": []
  }
 ],
 "metadata": {
  "kernelspec": {
   "display_name": "Python 3 (ipykernel)",
   "language": "python",
   "name": "python3"
  },
  "language_info": {
   "codemirror_mode": {
    "name": "ipython",
    "version": 3
   },
   "file_extension": ".py",
   "mimetype": "text/x-python",
   "name": "python",
   "nbconvert_exporter": "python",
   "pygments_lexer": "ipython3",
   "version": "3.12.7"
  }
 },
 "nbformat": 4,
 "nbformat_minor": 5
}
